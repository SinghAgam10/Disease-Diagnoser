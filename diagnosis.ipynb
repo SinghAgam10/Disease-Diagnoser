{
 "cells": [
  {
   "cell_type": "code",
   "execution_count": 5,
   "metadata": {},
   "outputs": [],
   "source": [
    "import pandas as pd\n",
    "from sklearn.feature_extraction.text import TfidfVectorizer\n",
    "from sklearn.metrics.pairwise import cosine_similarity"
   ]
  },
  {
   "cell_type": "code",
   "execution_count": 6,
   "metadata": {},
   "outputs": [],
   "source": [
    "data = pd.read_csv(\"Diseases_Symptoms.csv\")"
   ]
  },
  {
   "cell_type": "code",
   "execution_count": 7,
   "metadata": {},
   "outputs": [],
   "source": [
    "data['Symptoms'] = data['Symptoms'].fillna('')"
   ]
  },
  {
   "cell_type": "code",
   "execution_count": 8,
   "metadata": {},
   "outputs": [],
   "source": [
    "vectorizer = TfidfVectorizer(stop_words='english')\n",
    "symptom_vectors = vectorizer.fit_transform(data['Symptoms'])"
   ]
  },
  {
   "cell_type": "code",
   "execution_count": 9,
   "metadata": {},
   "outputs": [],
   "source": [
    "def find_closest_disease(user_symptoms):\n",
    "    user_vector = vectorizer.transform([user_symptoms])\n",
    "    similarity_scores = cosine_similarity(user_vector, symptom_vectors)\n",
    "    most_similar_idx = similarity_scores.argmax()\n",
    "    return data.iloc[most_similar_idx]['Name'], data.iloc[most_similar_idx]['Symptoms'], data.iloc[most_similar_idx]['Treatments']"
   ]
  },
  {
   "cell_type": "code",
   "execution_count": 13,
   "metadata": {},
   "outputs": [],
   "source": [
    "user_input = input(\"Enter your symptoms, separated by commas: \")"
   ]
  },
  {
   "cell_type": "code",
   "execution_count": 14,
   "metadata": {},
   "outputs": [],
   "source": [
    "disease, symptoms, treatments = find_closest_disease(user_input)"
   ]
  },
  {
   "cell_type": "code",
   "execution_count": 15,
   "metadata": {},
   "outputs": [
    {
     "name": "stdout",
     "output_type": "stream",
     "text": [
      "Closest matched disease: Influenza (Flu)\n",
      "Common symptoms: High fever, body aches, fatigue, cough, sore throat, congestion\n",
      "Recommended treatments: Rest, fluids, over-the-counter medications for symptom relief, antiviral medications (in some cases)\n"
     ]
    }
   ],
   "source": [
    "print(f\"Closest matched disease: {disease}\")\n",
    "print(f\"Common symptoms: {symptoms}\")\n",
    "print(f\"Recommended treatments: {treatments}\")"
   ]
  },
  {
   "cell_type": "code",
   "execution_count": null,
   "metadata": {},
   "outputs": [],
   "source": []
  }
 ],
 "metadata": {
  "kernelspec": {
   "display_name": "Python 3",
   "language": "python",
   "name": "python3"
  },
  "language_info": {
   "codemirror_mode": {
    "name": "ipython",
    "version": 3
   },
   "file_extension": ".py",
   "mimetype": "text/x-python",
   "name": "python",
   "nbconvert_exporter": "python",
   "pygments_lexer": "ipython3",
   "version": "3.11.2"
  }
 },
 "nbformat": 4,
 "nbformat_minor": 2
}
